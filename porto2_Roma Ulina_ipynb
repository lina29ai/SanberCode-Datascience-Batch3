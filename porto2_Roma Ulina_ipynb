tujuan = Mr. Cho ingin membeli properti rumah dan membutuhkan rekomendasi yang lebih tepat untuk membuat keputusan yang lebih baik.

