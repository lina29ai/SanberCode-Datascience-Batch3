{
 "cells": [
  {
   "cell_type": "code",
   "execution_count": 1,
   "metadata": {},
   "outputs": [
    {
     "name": "stdout",
     "output_type": "stream",
     "text": [
      "            precision  recall  f1-score  support\n",
      "setosa           0.98    0.97      0.97       50\n",
      "versicolor       0.93    0.95      0.94       50\n",
      "virginica        0.95    0.97      0.96       50\n",
      "accuracy         0.94    0.96      0.95      150\n"
     ]
    }
   ],
   "source": [
    "import pandas as pd\n",
    "\n",
    "data_dummy = {\n",
    "    'precision': [0.98, 0.93, 0.95, 0.94],\n",
    "    'recall': [0.97, 0.95, 0.97, 0.96],\n",
    "    'f1-score': [0.97, 0.94, 0.96, 0.95],\n",
    "    'support': [50, 50, 50, 150]\n",
    "}\n",
    "\n",
    "index_dummy = ['setosa', 'versicolor', 'virginica', 'accuracy']\n",
    "\n",
    "df_dummy = pd.DataFrame(data_dummy, index=index_dummy)\n",
    "\n",
    "print(df_dummy)\n"
   ]
  },
  {
   "cell_type": "code",
   "execution_count": 2,
   "metadata": {},
   "outputs": [
    {
     "ename": "ModuleNotFoundError",
     "evalue": "No module named 'streamlit'",
     "output_type": "error",
     "traceback": [
      "\u001b[1;31m---------------------------------------------------------------------------\u001b[0m",
      "\u001b[1;31mModuleNotFoundError\u001b[0m                       Traceback (most recent call last)",
      "Cell \u001b[1;32mIn[2], line 2\u001b[0m\n\u001b[0;32m      1\u001b[0m \u001b[38;5;28;01mimport\u001b[39;00m \u001b[38;5;21;01mpandas\u001b[39;00m \u001b[38;5;28;01mas\u001b[39;00m \u001b[38;5;21;01mpd\u001b[39;00m\n\u001b[1;32m----> 2\u001b[0m \u001b[38;5;28;01mimport\u001b[39;00m \u001b[38;5;21;01mstreamlit\u001b[39;00m \u001b[38;5;28;01mas\u001b[39;00m \u001b[38;5;21;01mst\u001b[39;00m\n\u001b[0;32m      4\u001b[0m \u001b[38;5;66;03m# Data dummy\u001b[39;00m\n\u001b[0;32m      5\u001b[0m data_dummy \u001b[38;5;241m=\u001b[39m {\n\u001b[0;32m      6\u001b[0m     \u001b[38;5;124m'\u001b[39m\u001b[38;5;124mprecision\u001b[39m\u001b[38;5;124m'\u001b[39m: [\u001b[38;5;241m0.98\u001b[39m, \u001b[38;5;241m0.93\u001b[39m, \u001b[38;5;241m0.95\u001b[39m, \u001b[38;5;241m0.94\u001b[39m],\n\u001b[0;32m      7\u001b[0m     \u001b[38;5;124m'\u001b[39m\u001b[38;5;124mrecall\u001b[39m\u001b[38;5;124m'\u001b[39m: [\u001b[38;5;241m0.97\u001b[39m, \u001b[38;5;241m0.95\u001b[39m, \u001b[38;5;241m0.97\u001b[39m, \u001b[38;5;241m0.96\u001b[39m],\n\u001b[0;32m      8\u001b[0m     \u001b[38;5;124m'\u001b[39m\u001b[38;5;124mf1-score\u001b[39m\u001b[38;5;124m'\u001b[39m: [\u001b[38;5;241m0.97\u001b[39m, \u001b[38;5;241m0.94\u001b[39m, \u001b[38;5;241m0.96\u001b[39m, \u001b[38;5;241m0.95\u001b[39m],\n\u001b[0;32m      9\u001b[0m     \u001b[38;5;124m'\u001b[39m\u001b[38;5;124msupport\u001b[39m\u001b[38;5;124m'\u001b[39m: [\u001b[38;5;241m50\u001b[39m, \u001b[38;5;241m50\u001b[39m, \u001b[38;5;241m50\u001b[39m, \u001b[38;5;241m150\u001b[39m]\n\u001b[0;32m     10\u001b[0m }\n",
      "\u001b[1;31mModuleNotFoundError\u001b[0m: No module named 'streamlit'"
     ]
    }
   ],
   "source": [
    "import pandas as pd\n",
    "import streamlit as st\n",
    "\n",
    "data_dummy = {\n",
    "    'precision': [0.98, 0.93, 0.95, 0.94],\n",
    "    'recall': [0.97, 0.95, 0.97, 0.96],\n",
    "    'f1-score': [0.97, 0.94, 0.96, 0.95],\n",
    "    'support': [50, 50, 50, 150]\n",
    "}\n",
    "\n",
    "index_dummy = ['setosa', 'versicolor', 'virginica', 'accuracy']\n",
    "df_dummy = pd.DataFrame(data_dummy, index=index_dummy)\n",
    "\n",
    "st.title(\"Dashboard Klasifikasi\")\n",
    "\n",
    "st.write(\"Tabel Hasil Klasifikasi:\")\n",
    "st.dataframe(df_dummy)\n",
    "\n",
    "st.bar_chart(df_dummy[['precision', 'recall', 'f1-score']])\n"
   ]
  }
 ],
 "metadata": {
  "kernelspec": {
   "display_name": ".venv",
   "language": "python",
   "name": "python3"
  },
  "language_info": {
   "codemirror_mode": {
    "name": "ipython",
    "version": 3
   },
   "file_extension": ".py",
   "mimetype": "text/x-python",
   "name": "python",
   "nbconvert_exporter": "python",
   "pygments_lexer": "ipython3",
   "version": "3.11.5"
  }
 },
 "nbformat": 4,
 "nbformat_minor": 2
}
